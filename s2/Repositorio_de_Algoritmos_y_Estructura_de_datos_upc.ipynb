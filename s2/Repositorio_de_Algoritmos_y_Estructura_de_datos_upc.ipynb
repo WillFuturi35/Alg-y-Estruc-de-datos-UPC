{
  "nbformat": 4,
  "nbformat_minor": 0,
  "metadata": {
    "colab": {
      "name": "Repositorio de Algoritmos y Estructura de datos upc.ipynb",
      "provenance": [],
      "authorship_tag": "ABX9TyPcE/noztvYh8TKUGEFRc32",
      "include_colab_link": true
    },
    "kernelspec": {
      "name": "python3",
      "display_name": "Python 3"
    },
    "language_info": {
      "name": "python"
    }
  },
  "cells": [
    {
      "cell_type": "markdown",
      "metadata": {
        "id": "view-in-github",
        "colab_type": "text"
      },
      "source": [
        "<a href=\"https://colab.research.google.com/github/WillFuturi35/Alg-y-Estruc-de-datos-UPC/blob/main/s2/Repositorio_de_Algoritmos_y_Estructura_de_datos_upc.ipynb\" target=\"_parent\"><img src=\"https://colab.research.google.com/assets/colab-badge.svg\" alt=\"Open In Colab\"/></a>"
      ]
    },
    {
      "cell_type": "markdown",
      "metadata": {
        "id": "6hOSadY6jgUR"
      },
      "source": [
        "#Temario\n",
        "1. Intro Colab\n",
        "2. Compilacion por terminal\n",
        "3. Templates\n",
        "\n",
        "## Compilacion"
      ]
    },
    {
      "cell_type": "code",
      "metadata": {
        "id": "6a6G-YL0WtAv",
        "colab": {
          "base_uri": "https://localhost:8080/"
        },
        "outputId": "2c6e97fd-6732-48ed-e3ed-5ebc20bf7e46"
      },
      "source": [
        "%%writefile programa1.cpp\n",
        "#include <iostream>\n",
        "using namespace std;\n",
        "int main(){\n",
        "    cout<<\"intro a colab\";\n",
        "    return 0;\n",
        "}\n"
      ],
      "execution_count": null,
      "outputs": [
        {
          "output_type": "stream",
          "text": [
            "Overwriting programa1.cpp\n"
          ],
          "name": "stdout"
        }
      ]
    },
    {
      "cell_type": "code",
      "metadata": {
        "id": "QAjPObZccgwT"
      },
      "source": [
        "#Compilar el codigo\n",
        "!g++ programa1.cpp"
      ],
      "execution_count": null,
      "outputs": []
    },
    {
      "cell_type": "code",
      "metadata": {
        "colab": {
          "base_uri": "https://localhost:8080/"
        },
        "id": "lCiFkD7FdQQy",
        "outputId": "d70e3546-a4bc-4c29-d759-074e73654c8d"
      },
      "source": [
        "#ejecutar el programa objeto\n",
        "!./a.out"
      ],
      "execution_count": null,
      "outputs": [
        {
          "output_type": "stream",
          "text": [
            "intro a colab"
          ],
          "name": "stdout"
        }
      ]
    },
    {
      "cell_type": "code",
      "metadata": {
        "colab": {
          "base_uri": "https://localhost:8080/"
        },
        "id": "YzMu8n2sd2D3",
        "outputId": "9881ae88-1cb4-43a7-b305-5503b0820bc8"
      },
      "source": [
        "!g++ programa1.cpp && ./a.out"
      ],
      "execution_count": null,
      "outputs": [
        {
          "output_type": "stream",
          "text": [
            "intro a colab"
          ],
          "name": "stdout"
        }
      ]
    },
    {
      "cell_type": "code",
      "metadata": {
        "colab": {
          "base_uri": "https://localhost:8080/"
        },
        "id": "p8fCwDAQd_5v",
        "outputId": "539cf65c-79cc-4d91-cba5-4b539a42befb"
      },
      "source": [
        "!g++ programa1.cpp -std=c++1z  -o upc.exe && ./upc.exe"
      ],
      "execution_count": null,
      "outputs": [
        {
          "output_type": "stream",
          "text": [
            "intro a colab"
          ],
          "name": "stdout"
        }
      ]
    },
    {
      "cell_type": "markdown",
      "metadata": {
        "id": "I_N3dE-okYP_"
      },
      "source": [
        "## Templates"
      ]
    },
    {
      "cell_type": "code",
      "metadata": {
        "id": "5TDRLVQkfUzk",
        "colab": {
          "base_uri": "https://localhost:8080/"
        },
        "outputId": "4a139f24-7b29-4b29-8b22-297774343a61"
      },
      "source": [
        "%%writefile sinTemplates.cpp\n",
        "\n",
        "#include <iostream>\n",
        "using namespace std;\n",
        "typedef unsigned long long ull;\n",
        "class Operacion1{\n",
        "    public:\n",
        "      Operacion1(short n1=0,short n2=0):n1(n1),n2(n2){}\n",
        "      short suma(){return n1+n2;}\n",
        "      \n",
        "    private:\n",
        "      short n1;\n",
        "      short n2;\n",
        "\n",
        "};\n",
        "class Operacion2{\n",
        "    public:\n",
        "      Operacion2(long n1=0,long n2=0):n1(n1),n2(n2){}\n",
        "      long suma(){return n1+n2;}\n",
        "      \n",
        "      private:\n",
        "      long n1;\n",
        "      long n2;\n",
        "\n",
        "};\n",
        "class Operacion3{\n",
        "    public:\n",
        "\n",
        "      Operacion3(ull n1=0,ull n2=0):n1(n1),n2(n2){}\n",
        "      ull suma(){return n1+n2;}\n",
        "      \n",
        "      private:\n",
        "      ull n1;\n",
        "      ull n2;\n",
        "\n",
        "};\n",
        "class Operacion4{\n",
        "    public:\n",
        "\n",
        "      Operacion4(float n1=0,float n2=0):n1(n1),n2(n2){}\n",
        "      float suma(){return n1+n2;};\n",
        "      \n",
        "      private:\n",
        "      float n1;\n",
        "      float n2;\n",
        "\n",
        "};\n",
        "int main(){\n",
        "    Operacion1 o1(123456789.23,1088.15);\n",
        "    Operacion2 o2(123456789.23,1088.15);\n",
        "    Operacion3 o3(123456789.23,1088.15);\n",
        "    Operacion4 o4(123456789.23,1088.15);\n",
        "\n",
        "    cout<<o1.suma()<<endl;\n",
        "    cout<<o2.suma()<<endl;   \n",
        "    cout<<o3.suma()<<endl;\n",
        "    cout<<o4.suma()<<endl;\n",
        "\n",
        "    return 0;\n",
        "}"
      ],
      "execution_count": null,
      "outputs": [
        {
          "output_type": "stream",
          "text": [
            "Overwriting sinTemplates.cpp\n"
          ],
          "name": "stdout"
        }
      ]
    },
    {
      "cell_type": "code",
      "metadata": {
        "colab": {
          "base_uri": "https://localhost:8080/"
        },
        "id": "N5fk6Z8lsud_",
        "outputId": "1f48c1b2-c0a1-42b2-f40b-d5d3e023bf02"
      },
      "source": [
        "!g++ sinTemplates.cpp -std=c++1z -o upc.exe && ./upc.exe"
      ],
      "execution_count": null,
      "outputs": [
        {
          "output_type": "stream",
          "text": [
            "\u001b[01m\u001b[KsinTemplates.cpp:\u001b[m\u001b[K In function ‘\u001b[01m\u001b[Kint main()\u001b[m\u001b[K’:\n",
            "\u001b[01m\u001b[KsinTemplates.cpp:48:39:\u001b[m\u001b[K \u001b[01;35m\u001b[Kwarning: \u001b[m\u001b[Koverflow in implicit constant conversion [\u001b[01;35m\u001b[K-Woverflow\u001b[m\u001b[K]\n",
            "     Operacion1 o1(123456789.23,1088.15\u001b[01;35m\u001b[K)\u001b[m\u001b[K;\n",
            "                                       \u001b[01;35m\u001b[K^\u001b[m\u001b[K\n",
            "-31681\n",
            "123457877\n",
            "123457877\n",
            "1.23458e+08\n"
          ],
          "name": "stdout"
        }
      ]
    },
    {
      "cell_type": "code",
      "metadata": {
        "colab": {
          "base_uri": "https://localhost:8080/"
        },
        "id": "y7FyrDwquQl6",
        "outputId": "e405ee02-a670-4843-9a70-60c027f413ca"
      },
      "source": [
        "%%writefile conTemplates.cpp\n",
        "\n",
        "#include <iostream>\n",
        "using namespace std;\n",
        "typedef unsigned long long ull;\n",
        "template <class Tipo>\n",
        "class Operacion{\n",
        "    public:\n",
        "      Operacion(Tipo n1=0,Tipo n2=0):n1(n1),n2(n2){}\n",
        "      Tipo suma(){return n1+n2;}\n",
        "      \n",
        "    private:\n",
        "      Tipo n1;\n",
        "      Tipo n2;\n",
        "\n",
        "};\n",
        "\n",
        "int main(){\n",
        "    Operacion<short> o1(123456789.23,1088.15);\n",
        "    Operacion<long> o2(123456789.23,1088.15);\n",
        "    Operacion<ull> o3(123456789.23,1088.15);\n",
        "    Operacion<float> o4(123456789.23,1088.15);\n",
        "\n",
        "    cout<<o1.suma()<<endl;\n",
        "    cout<<o2.suma()<<endl;   \n",
        "    cout<<o3.suma()<<endl;\n",
        "    cout<<o4.suma()<<endl;\n",
        "\n",
        "    return 0;\n",
        "}"
      ],
      "execution_count": null,
      "outputs": [
        {
          "output_type": "stream",
          "text": [
            "Overwriting conTemplates.cpp\n"
          ],
          "name": "stdout"
        }
      ]
    },
    {
      "cell_type": "code",
      "metadata": {
        "colab": {
          "base_uri": "https://localhost:8080/"
        },
        "id": "oykgybrOu6AC",
        "outputId": "0b85f988-c583-4ea5-ab08-7c9065dd7817"
      },
      "source": [
        "!g++ conTemplates.cpp -std=c++1z -o upc.exe && ./upc.exe"
      ],
      "execution_count": null,
      "outputs": [
        {
          "output_type": "stream",
          "text": [
            "\u001b[01m\u001b[KconTemplates.cpp:\u001b[m\u001b[K In function ‘\u001b[01m\u001b[Kint main()\u001b[m\u001b[K’:\n",
            "\u001b[01m\u001b[KconTemplates.cpp:18:45:\u001b[m\u001b[K \u001b[01;35m\u001b[Kwarning: \u001b[m\u001b[Koverflow in implicit constant conversion [\u001b[01;35m\u001b[K-Woverflow\u001b[m\u001b[K]\n",
            "     Operacion<short> o1(123456789.23,1088.15\u001b[01;35m\u001b[K)\u001b[m\u001b[K;\n",
            "                                             \u001b[01;35m\u001b[K^\u001b[m\u001b[K\n",
            "-31681\n",
            "123457877\n",
            "123457877\n",
            "1.23458e+08\n"
          ],
          "name": "stdout"
        }
      ]
    },
    {
      "cell_type": "code",
      "metadata": {
        "colab": {
          "base_uri": "https://localhost:8080/"
        },
        "id": "R2pIK3HBIhn4",
        "outputId": "5f9d7811-338a-4f78-c3fc-4643a395822b"
      },
      "source": [
        "%%writefile proyecto.cpp\n",
        "#include <iostream>\n",
        "#include <string>\n",
        "using namespace std;\n",
        "\n",
        "struct Dispositivo{\n",
        "    string modelo;\n",
        "    Dispositivo(){modelo=\"Samsung\";}\n",
        "};\n",
        "\n",
        "class Enemigo{\n",
        "    string nombre;\n",
        "    public:\n",
        "    Enemigo(){nombre=\"Sars0\";}\n",
        "    string getNombre(){return nombre;}\n",
        "};\n",
        "\n",
        "class Herramienta{\n",
        "    string nombre;\n",
        "    public:\n",
        "    Herramienta(){nombre=\"\";}\n",
        "};\n",
        "\n",
        "class Portal{\n",
        "    short id;\n",
        "    public:\n",
        "    Portal(){id=1;}\n",
        "};\n",
        "\n",
        "template <class Tipo>\n",
        "class Arreglo{\n",
        "  Tipo* arr;\n",
        "  unsigned long idx;\n",
        "  public: \n",
        "    Arreglo(){\n",
        "        idx=0;\n",
        "        arr=new Tipo[100];\n",
        "    }\n",
        "\n",
        "    void insertar(Tipo o){\n",
        "        if(idx<100)\n",
        "          arr[idx++]=o;\n",
        "    }\n",
        "    Tipo getXpos(int p){return arr[p];}\n",
        "};\n",
        "\n",
        "int main(){\n",
        "    Arreglo<Enemigo> enemigos;\n",
        "    Arreglo<Herramienta> herramientas;\n",
        "    Arreglo<Portal> portales;\n",
        "    Arreglo<int> enteros;\n",
        "    Arreglo<Dispositivo> dispositivos;\n",
        "\n",
        "    dispositivos.insertar(Dispositivo());\n",
        "    enemigos.insertar(Enemigo());\n",
        "    for(size_t i=0;i<10;++i)\n",
        "        enteros.insertar(i);      \n",
        "    cout<<dispositivos.getXpos(0).modelo<<endl;    \n",
        "    cout<<enemigos.getXpos(0).getNombre()<<endl;\n",
        "    for(size_t i=0;i<10;++i)\n",
        "        cout<<enteros.getXpos(i)<<endl;\n",
        "}"
      ],
      "execution_count": 1,
      "outputs": [
        {
          "output_type": "stream",
          "name": "stdout",
          "text": [
            "Writing proyecto.cpp\n"
          ]
        }
      ]
    },
    {
      "cell_type": "code",
      "metadata": {
        "colab": {
          "base_uri": "https://localhost:8080/"
        },
        "id": "bvnPBXshoj_U",
        "outputId": "5f405325-f86e-4e3e-d05f-64a503dd48ba"
      },
      "source": [
        "!g++ proyecto.cpp -std=c++1z -o upc.exe && ./upc.exe"
      ],
      "execution_count": 2,
      "outputs": [
        {
          "output_type": "stream",
          "name": "stdout",
          "text": [
            "Samsung\n",
            "Sars0\n",
            "0\n",
            "1\n",
            "2\n",
            "3\n",
            "4\n",
            "5\n",
            "6\n",
            "7\n",
            "8\n",
            "9\n"
          ]
        }
      ]
    }
  ]
}