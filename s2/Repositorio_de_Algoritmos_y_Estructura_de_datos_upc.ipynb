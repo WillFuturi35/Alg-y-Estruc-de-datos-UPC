{
  "nbformat": 4,
  "nbformat_minor": 0,
  "metadata": {
    "colab": {
      "name": "Repositorio de Algoritmos y Estructura de datos upc.ipynb",
      "provenance": [],
      "authorship_tag": "ABX9TyO3tes5cgj6keFh9giJVC+D",
      "include_colab_link": true
    },
    "kernelspec": {
      "name": "python3",
      "display_name": "Python 3"
    },
    "language_info": {
      "name": "python"
    }
  },
  "cells": [
    {
      "cell_type": "markdown",
      "metadata": {
        "id": "view-in-github",
        "colab_type": "text"
      },
      "source": [
        "<a href=\"https://colab.research.google.com/github/WillFuturi35/Alg-y-Estruc-de-datos-UPC/blob/main/s2/Repositorio_de_Algoritmos_y_Estructura_de_datos_upc.ipynb\" target=\"_parent\"><img src=\"https://colab.research.google.com/assets/colab-badge.svg\" alt=\"Open In Colab\"/></a>"
      ]
    },
    {
      "cell_type": "markdown",
      "metadata": {
        "id": "6hOSadY6jgUR"
      },
      "source": [
        "#Temario\n",
        "1. Intro Colab\n",
        "2. Compilacion por terminal\n",
        "3. Templates\n",
        "\n",
        "## Compilacion"
      ]
    },
    {
      "cell_type": "code",
      "metadata": {
        "id": "6a6G-YL0WtAv",
        "colab": {
          "base_uri": "https://localhost:8080/"
        },
        "outputId": "2c6e97fd-6732-48ed-e3ed-5ebc20bf7e46"
      },
      "source": [
        "%%writefile programa1.cpp\n",
        "#include <iostream>\n",
        "using namespace std;\n",
        "int main(){\n",
        "    cout<<\"intro a colab\";\n",
        "    return 0;\n",
        "}\n"
      ],
      "execution_count": null,
      "outputs": [
        {
          "output_type": "stream",
          "text": [
            "Overwriting programa1.cpp\n"
          ],
          "name": "stdout"
        }
      ]
    },
    {
      "cell_type": "code",
      "metadata": {
        "id": "QAjPObZccgwT"
      },
      "source": [
        "#Compilar el codigo\n",
        "!g++ programa1.cpp"
      ],
      "execution_count": null,
      "outputs": []
    },
    {
      "cell_type": "code",
      "metadata": {
        "colab": {
          "base_uri": "https://localhost:8080/"
        },
        "id": "lCiFkD7FdQQy",
        "outputId": "d70e3546-a4bc-4c29-d759-074e73654c8d"
      },
      "source": [
        "#ejecutar el programa objeto\n",
        "!./a.out"
      ],
      "execution_count": null,
      "outputs": [
        {
          "output_type": "stream",
          "text": [
            "intro a colab"
          ],
          "name": "stdout"
        }
      ]
    },
    {
      "cell_type": "code",
      "metadata": {
        "colab": {
          "base_uri": "https://localhost:8080/"
        },
        "id": "YzMu8n2sd2D3",
        "outputId": "9881ae88-1cb4-43a7-b305-5503b0820bc8"
      },
      "source": [
        "!g++ programa1.cpp && ./a.out"
      ],
      "execution_count": null,
      "outputs": [
        {
          "output_type": "stream",
          "text": [
            "intro a colab"
          ],
          "name": "stdout"
        }
      ]
    },
    {
      "cell_type": "code",
      "metadata": {
        "colab": {
          "base_uri": "https://localhost:8080/"
        },
        "id": "p8fCwDAQd_5v",
        "outputId": "539cf65c-79cc-4d91-cba5-4b539a42befb"
      },
      "source": [
        "!g++ programa1.cpp -std=c++1z  -o upc.exe && ./upc.exe"
      ],
      "execution_count": null,
      "outputs": [
        {
          "output_type": "stream",
          "text": [
            "intro a colab"
          ],
          "name": "stdout"
        }
      ]
    },
    {
      "cell_type": "markdown",
      "metadata": {
        "id": "I_N3dE-okYP_"
      },
      "source": [
        "## Templates"
      ]
    },
    {
      "cell_type": "code",
      "metadata": {
        "id": "5TDRLVQkfUzk"
      },
      "source": [
        ""
      ],
      "execution_count": null,
      "outputs": []
    }
  ]
}