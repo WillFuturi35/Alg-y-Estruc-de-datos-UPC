{
  "nbformat": 4,
  "nbformat_minor": 0,
  "metadata": {
    "colab": {
      "name": "ActividadArbol.ipynb",
      "provenance": [],
      "authorship_tag": "ABX9TyMgu/5R+salKeW/qAvp7whs",
      "include_colab_link": true
    },
    "kernelspec": {
      "name": "python3",
      "display_name": "Python 3"
    },
    "language_info": {
      "name": "python"
    }
  },
  "cells": [
    {
      "cell_type": "markdown",
      "metadata": {
        "id": "view-in-github",
        "colab_type": "text"
      },
      "source": [
        "<a href=\"https://colab.research.google.com/github/WillFuturi35/Alg-y-Estruc-de-datos-UPC/blob/main/ActividadArbol/ActividadArbol.ipynb\" target=\"_parent\"><img src=\"https://colab.research.google.com/assets/colab-badge.svg\" alt=\"Open In Colab\"/></a>"
      ]
    },
    {
      "cell_type": "code",
      "metadata": {
        "colab": {
          "base_uri": "https://localhost:8080/"
        },
        "id": "Y_7ZGBo9d0s0",
        "outputId": "a0cca3c9-9d85-4839-f811-51d43dfd7374"
      },
      "source": [
        "%%writefile ArbolB.hpp\n",
        "#ifndef __ARBOLB_HPP__\n",
        "#define __ARBOLB_HPP__\n",
        "\n",
        "template <class T>\n",
        "class Nodo {\n",
        "public:\n",
        "\tT elemento;\n",
        "\tNodo* izq;\n",
        "\tNodo* der;\n",
        "};\n",
        "\n",
        "template <class T>\n",
        "class ArbolB {\n",
        "\tNodo<T>* raiz;\n",
        "\tvoid(*procesar)(T); //Puntero a funcion\n",
        "\n",
        "private:\n",
        "\tbool _insertar(Nodo<T>*& nodo, T e) {\n",
        "\t\tif (nodo == nullptr) {\n",
        "\t\t\tnodo = new Nodo<T>();\n",
        "\t\t\tnodo->elemento = e;\n",
        "\t\t}\n",
        "\t\telse if (e < nodo->elemento) {\n",
        "\t\t\treturn _insertar(nodo->izq, e);\n",
        "\t\t}\n",
        "\t\telse if (e >= nodo->elemento) {\n",
        "\t\t\treturn _insertar(nodo->der, e);\n",
        "\t\t}\n",
        "\t}\n",
        "\n",
        "\tvoid _enOrden(Nodo<T>* nodo) {\n",
        "\t\tif (nodo == nullptr) return;\n",
        "\t\t_enOrden(nodo->izq);\n",
        "\t\tprocesar(nodo->elemento);\n",
        "\t\t_enOrden(nodo->der);\n",
        "\t}\n",
        "\n",
        "\tvoid _preOrden(Nodo<T>* nodo) {\n",
        "\t\tif (nodo == nullptr) return;\n",
        "\t\tprocesar(nodo->elemento);\n",
        "\t\t_preOrden(nodo->izq);\n",
        "\t\t_preOrden(nodo->der);\n",
        "\t}\n",
        "\n",
        "\tvoid _postOrden(Nodo<T>* nodo) {\n",
        "\t\tif (nodo == nullptr) return;\n",
        "\t\t_postOrden(nodo->izq);\n",
        "\t\t_postOrden(nodo->der);\n",
        "\t\tprocesar(nodo->elemento);\n",
        "\t}\n",
        "\n",
        "\tbool _vacio() {\n",
        "\t\treturn raiz == nullptr;\n",
        "\t}\n",
        "\n",
        "\tint _cantidad(Nodo<T>* nodo) {\n",
        "\t\t//La cantidad de nodos del árbol es:\n",
        "\t\t//\t0 si es vacío\n",
        "\t\t//\t1 + la cantidad de nodos por la izquierda + la cantidad de nodos por la derecha\n",
        "\n",
        "\t\tif (nodo==nullptr)\n",
        "\t\t\treturn 0;\n",
        "\t\telse\n",
        "\t\t{\n",
        "\t\t\tint ci, cd;\n",
        "\t\t\tci = _cantidad(nodo->izq);\n",
        "\t\t\tcd = _cantidad(nodo->der);\n",
        "\t\t\treturn 1 + ci + cd;\n",
        "\t\t}\n",
        "\n",
        "\t}\n",
        "\n",
        "\tint _altura(Nodo<T>* nodo) {\n",
        "\t\t//La altura del árbol es:\n",
        "\t\t//\t0 si es vacío\n",
        "\t\t//\tla mayor de las alturas por la izquierda y por la derecha, las cuáles son 0 si son vacías ó 1 + la altura por la izq(o der) en caso contrario\n",
        "\n",
        "\t\tif (nodo==nullptr)\n",
        "\t\t\treturn 0;\n",
        "\t\telse\n",
        "\t\t{\n",
        "\t\t\tint ai, ad;\n",
        "\t\t\tai = 1 + _altura(nodo->izq);\n",
        "\t\t\tad = 1 + _altura(nodo->der);\n",
        "\t\t\treturn ai > ad ? ai : ad;\t\t\t\n",
        "\t\t}\n",
        "\t}\n",
        "\n",
        "    bool _eliminar(Nodo<T>* nodo,T tipo){\n",
        "        if(nodo==nullptr)\n",
        "            return 0;\n",
        "        else{\n",
        "            int raiz=comparar(nodo->elemento,tipo);\n",
        "            if(raiz<0){\n",
        "                return eliminar(nodo->der,tipo);\n",
        "            }else if(raiz>0){\n",
        "                return _eliminar(nodo->izq,tipo);\n",
        "            }else{ //r==0 encontró el elemento e en el arbol\n",
        "                if(nodo->der== nullptr,nodo->izq==nullptr){\n",
        "                    nodo= nullptr;\n",
        "                    _eliminar(nodo);\n",
        "                    return true;\n",
        "                }else if(nodo->izq==nullptr){\n",
        "                    nodo=nodo->der;\n",
        "                    return true;\n",
        "                }else if(nodo->der==nullptr){\n",
        "                    nodo=nodo->izq;\n",
        "                    return true;\n",
        "                }else{\n",
        "                    Nodo<T>* aux=new Nodo<T>;\n",
        "                    aux=aux->izq; //buscara el menor elemento por la derecha\n",
        "                    while(aux->izq != nullptr){\n",
        "                        aux=aux->izq;//Se obtiene la hoja menor\n",
        "                    }\n",
        "                    nodo->elemento=aux->elemento;//Se actualiza el elemento en el nodo raiz y\n",
        "                    return _eliminar(nodo->der,aux->elemento);\n",
        "                    //se envía a eliminar el elemento en el arbol por la derecha\n",
        "                }\n",
        "            }\n",
        "        }\n",
        "    }\n",
        "\n",
        "\n",
        "public:\n",
        "\tArbolB(void(*otroPunteroAFuncion)(T)) {\n",
        "\t\tthis->procesar = otroPunteroAFuncion;\n",
        "\t\traiz = nullptr;\n",
        "\t}\n",
        "\tbool insertar(T e) {\n",
        "\t\treturn _insertar(raiz, e);\n",
        "\t}\n",
        "\tvoid enOrden() {\n",
        "\t\t_enOrden(raiz);\n",
        "\t}\n",
        "\tvoid preOrden() {\n",
        "\t\t_preOrden(raiz);\n",
        "\t}\n",
        "\tvoid postOrden() {\n",
        "\t\t_postOrden(raiz);\n",
        "\t}\n",
        "\tint cantidad() {\n",
        "\t\treturn _cantidad(raiz);\n",
        "\t}\n",
        "\tint altura() {\n",
        "\t\treturn _altura(raiz);\n",
        "\t}\n",
        "    bool eliminar(T e) {\n",
        "\t\treturn _eliminar(raiz, e);\n",
        "\t}\n",
        "};\n",
        "\n",
        "#endif\n"
      ],
      "execution_count": 22,
      "outputs": [
        {
          "output_type": "stream",
          "name": "stdout",
          "text": [
            "Overwriting ArbolB.hpp\n"
          ]
        }
      ]
    },
    {
      "cell_type": "code",
      "metadata": {
        "colab": {
          "base_uri": "https://localhost:8080/"
        },
        "id": "Rs-st5Pyorgx",
        "outputId": "402b567d-eefb-400a-caa3-3051e4eeb12f"
      },
      "source": [
        "%%writefile Registros.csv\n",
        "nombre apellido edad decision\n",
        "Jorge Cerdan 20 Y\n",
        "Roberto Juarez 35 N\n",
        "Fidel Sanchez 21 N\n",
        "Sofia Minchola 34 Y \n",
        "Ana Rodriguez 18 N\n",
        "Juan Perez 36 Y\n",
        "Jaime Diaz 45 N\n",
        "Cesar Juarez 17 N\n",
        "Karla Melendez 38 Y\n",
        "Agustin Ullon 40 N"
      ],
      "execution_count": 23,
      "outputs": [
        {
          "output_type": "stream",
          "name": "stdout",
          "text": [
            "Overwriting Registros.csv\n"
          ]
        }
      ]
    },
    {
      "cell_type": "code",
      "metadata": {
        "colab": {
          "base_uri": "https://localhost:8080/"
        },
        "id": "WQ_jkV7Rcdr_",
        "outputId": "626e821f-e5d8-4b3b-a0cf-5e2b68b7cc6d"
      },
      "source": [
        "%%writefile test.cpp\n",
        "\n",
        "#include \"ArbolB.hpp\"\n",
        "#include <iostream>\n",
        "#include <string>\n",
        "#include <functional>\n",
        "#include <fstream>\n",
        "#include <ctime>\n",
        "\n",
        "using namespace std;\n",
        "\n",
        "class Register {\n",
        "\tstring apellido;\n",
        "\tstring nombre;\n",
        "\tshort edad;\n",
        "\tbool fumador;\n",
        "public:\n",
        "\tRegister(string nombre=\"\", string apellido=\"\", short edad=25, bool fumador=false) {\n",
        "\t\tthis->apellido = apellido;\n",
        "\t\tthis->nombre = nombre;\n",
        "\t\tthis->edad = edad;\n",
        "\t\tthis->fumador = fumador;\n",
        "\t}\n",
        "\tfriend ostream& operator<<(ostream& os, const Register& r) {\n",
        "\t\tos << r.nombre << \" \" << r.apellido << \" \" << r.edad << \" \" << r.fumador << endl;\n",
        "\t\treturn os;\n",
        "\t}\n",
        "\tbool operator<(const Register& r) {\n",
        "\t\treturn this->edad < r.edad;\n",
        "\t}\n",
        "  bool operator>=(const Register& r) {\n",
        "\t\treturn this->edad >= r.edad;\n",
        "\t}\n",
        "\tbool operator>(const Register& r) {\n",
        "\t\treturn this->edad > r.edad;\n",
        "\t}\n",
        "};\n",
        "\n",
        "void imprimir(Register e) {\n",
        "\tcout << \" \" << e;\n",
        "}\n",
        "\n",
        "class Dataset {\n",
        "\t//ArbolB<Register> registros;\n",
        "    ArbolB<Register>* registros=new ArbolB<Register>(imprimir);\n",
        "\t\n",
        "public:\n",
        "\tDataset() {\n",
        "\t\treadTSV(\"Registros.csv\");\n",
        "\t}\n",
        "\tvoid readTSV(string name = \"\", bool header = true) {//campos separados por tab o espacios\n",
        "\t\tifstream file(name);\n",
        "\t\tstring reg, nombre, apellido, t_edad, t_fumador;\n",
        "\t\tshort edad;\n",
        "\t\tbool fumador;\n",
        "\t\tif (header)\n",
        "\t\t\tgetline(file, reg);\n",
        "\t\twhile (file >> nombre >> apellido >> t_edad >> t_fumador) {\n",
        "\t\t\tedad = stoi(t_edad);\n",
        "\t\t\tfumador = t_fumador[0] == 'Y';\n",
        "\t\t\tregistros->insertar(Register(nombre, apellido, edad, fumador));\n",
        "\t\t}\n",
        "\t}\n",
        "\t\t\n",
        "\tvoid print_enOrden() {\n",
        "\t\tregistros->enOrden();\n",
        "\t}\n",
        "\n",
        "    void print_postOrden() {\n",
        "\t\tregistros->postOrden();\n",
        "\t}\n",
        "\n",
        "    void print_preOrden() {\n",
        "\t\tregistros->preOrden();\n",
        "\t}\n",
        "\n",
        "    int size(){\n",
        "        return registros->cantidad();\n",
        "    }\n",
        "\n",
        "    int Altura(){\n",
        "        return registros->altura();\n",
        "    }\n",
        "\n",
        "    /*void eliminara(){ \n",
        "        registros->eliminar(Register(\"Jorge\", \"Cerdan\", 20, true));\n",
        "    }*/ //aun falta que funcione\n",
        "};\n",
        "\n",
        "\n",
        "\n",
        "\n",
        "\n",
        "int main() {\n",
        "    Dataset ds;\n",
        "    cout<<\"Ordenamiento enOrden: \"<<endl;\n",
        "    cout<<\"----------------------\"<<endl;\n",
        "\t  ds.print_enOrden();\n",
        "    cout<<\"\\n\\nCantidad: \"<<ds.size();\n",
        "    cout<<\"\\nAltura: \"<<ds.Altura();\n",
        "    cout<<\"\\n Remove data correct!!\"<<endl;\n",
        "\n",
        "\t  cin.get();\n",
        "  \treturn 0;\n",
        "}"
      ],
      "execution_count": 25,
      "outputs": [
        {
          "output_type": "stream",
          "name": "stdout",
          "text": [
            "Overwriting test.cpp\n"
          ]
        }
      ]
    },
    {
      "cell_type": "code",
      "metadata": {
        "colab": {
          "base_uri": "https://localhost:8080/"
        },
        "id": "kuTwCmeDdZ8Z",
        "outputId": "64bd3b68-303c-4aad-831e-df41262dea5a"
      },
      "source": [
        "!g++ test.cpp && ./a.out"
      ],
      "execution_count": null,
      "outputs": [
        {
          "output_type": "stream",
          "name": "stdout",
          "text": [
            "Ordenamiento enOrden: \n",
            "----------------------\n",
            " Cesar Juarez 17 0\n",
            " Ana Rodriguez 18 0\n",
            " Jorge Cerdan 20 1\n",
            " Fidel Sanchez 21 0\n",
            " Sofia Minchola 34 1\n",
            " Roberto Juarez 35 0\n",
            " Juan Perez 36 1\n",
            " Karla Melendez 38 1\n",
            " Agustin Ullon 40 0\n",
            " Jaime Diaz 45 0\n",
            "\n",
            "\n",
            "Cantidad: 10\n",
            "Altura: 6\n",
            " Remove data correct!!\n"
          ]
        }
      ]
    },
    {
      "cell_type": "markdown",
      "metadata": {
        "id": "GcEli5i9e_Dk"
      },
      "source": [
        "##Actividad para la casa \n",
        "\n",
        "\n",
        "1.   PreOrden y postOrden   -->listo\n",
        "2.   altura, Eliminar --->listo, falto un poco de eliminar\n",
        "3.   Comparacion e imprecion que sean funciones como atributo de clase.-->listo\n",
        "\n"
      ]
    },
    {
      "cell_type": "code",
      "metadata": {
        "id": "zyQin5Pddjzn"
      },
      "source": [
        ""
      ],
      "execution_count": null,
      "outputs": []
    }
  ]
}